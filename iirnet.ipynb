{
  "nbformat": 4,
  "nbformat_minor": 0,
  "metadata": {
    "kernelspec": {
      "display_name": "Python 3",
      "language": "python",
      "name": "python3"
    },
    "language_info": {
      "codemirror_mode": {
        "name": "ipython",
        "version": 3
      },
      "file_extension": ".py",
      "mimetype": "text/x-python",
      "name": "python",
      "nbconvert_exporter": "python",
      "pygments_lexer": "ipython3",
      "version": "3.8.6"
    },
    "colab": {
      "name": "Copy of iirnet.ipynb",
      "provenance": [],
      "collapsed_sections": []
    },
    "accelerator": "GPU"
  },
  "cells": [
    {
      "cell_type": "code",
      "metadata": {
        "id": "6Gc9dgkXFXQO"
      },
      "source": [
        "!pip install pytorch_lightning"
      ],
      "execution_count": null,
      "outputs": []
    },
    {
      "cell_type": "code",
      "metadata": {
        "id": "FOa7_18HIA15"
      },
      "source": [
        "!nvidia-smi"
      ],
      "execution_count": null,
      "outputs": []
    },
    {
      "cell_type": "code",
      "metadata": {
        "id": "yA-pM3f7FUEt"
      },
      "source": [
        "import io\n",
        "import torch\n",
        "import PIL.Image\n",
        "import numpy as np\n",
        "import scipy.signal\n",
        "import pytorch_lightning as pl\n",
        "import matplotlib.pyplot as plt\n",
        "\n",
        "from scipy.stats import loguniform\n",
        "from torchvision.transforms import ToTensor"
      ],
      "execution_count": null,
      "outputs": []
    },
    {
      "cell_type": "markdown",
      "metadata": {
        "id": "lcMD8ZCpFcPw"
      },
      "source": [
        "# Dataset"
      ]
    },
    {
      "cell_type": "code",
      "metadata": {
        "id": "ZnOlgSc3FdHJ"
      },
      "source": [
        "class IIRFilterDataset(torch.utils.data.Dataset):\n",
        "  def __init__(self,\n",
        "               num_points = 512,\n",
        "               filter_order = 2,\n",
        "               eps = 1e-8,\n",
        "               factor = 1,\n",
        "               num_examples = 10000):\n",
        "    super(IIRFilterDataset, self).__init__()\n",
        "    self.num_points = num_points\n",
        "    self.filter_order = filter_order\n",
        "    self.eps = eps\n",
        "    self.factor = factor\n",
        "    self.num_examples = num_examples\n",
        "  \n",
        "  def __len__(self):\n",
        "    return self.num_examples\n",
        "\n",
        "  def __getitem__(self, idx):\n",
        "    \n",
        "    # first generate random coefs\n",
        "    # we lay out coefs in an array [b0, b1, b2, a0, a1, a2]\n",
        "    # in the future we will want to enforce some kind of normalization\n",
        "    coef = self.factor * (np.random.rand((self.filter_order + 1) * 2) * 2) - 1\n",
        "\n",
        "    #wn = loguniform.rvs(1e-2, 1e0)\n",
        "    #rp = np.random.rand() * 10\n",
        "\n",
        "    wn = np.random.choice([0.05, 0.1, 0.4])\n",
        "    rp = np.random.choice([1, 10, 20])\n",
        "\n",
        "    b, a = scipy.signal.cheby1(self.filter_order, rp, wn)\n",
        "    coef = np.concatenate((b, a), axis=-1)\n",
        "\n",
        "    # now we comptue the mag and phase response of the filter\n",
        "    w, h = scipy.signal.freqz(b=coef[:3], a=coef[3:], worN=self.num_points)\n",
        "\n",
        "    mag = np.abs(w)\n",
        "\n",
        "    #print(np.max(mag), np.min(mag))\n",
        "    \n",
        "    # convert to float32\n",
        "    mag = mag.astype('float32')/self.factor\n",
        "    coef = coef.astype('float32')/self.factor\n",
        "\n",
        "    return mag, coef"
      ],
      "execution_count": null,
      "outputs": []
    },
    {
      "cell_type": "markdown",
      "metadata": {
        "id": "3k7jWIzBP8xY"
      },
      "source": [
        "# Plotting\n"
      ]
    },
    {
      "cell_type": "code",
      "metadata": {
        "id": "D4fLoyWgP8fx"
      },
      "source": [
        "def plot_compare_mag_response(pred_coef, target_coef, num_points=512, eps=1e-8, fs=44100):\n",
        "\n",
        "  fig, ax = plt.subplots()\n",
        "\n",
        "  pred_coef *= 1\n",
        "  target_coef *= 1\n",
        "\n",
        "  w_pred, h_pred = scipy.signal.freqz(b=pred_coef[:3], a=pred_coef[3:], worN=num_points, fs=fs)\n",
        "  w_target, h_target = scipy.signal.freqz(b=target_coef[:3], a=target_coef[3:], worN=num_points, fs=fs)\n",
        "\n",
        "  mag_pred = 20 * np.log10(np.abs(h_pred) + 1e-8)\n",
        "  mag_target = 20 * np.log10(np.abs(h_target) + 1e-8)\n",
        "\n",
        "  ax.plot(w_target, mag_target, color='b', label=\"target\")\n",
        "  ax.plot(w_pred, mag_pred, color='r', label=\"pred\")\n",
        "\n",
        "  ax.set_xscale('log')\n",
        "  ax.set_ylim([-60, 40])\n",
        "  ax.set_ylabel('Amplitude [dB]')\n",
        "  ax.set_xlabel('Frequency [rad/sample]')\n",
        "  plt.legend()\n",
        "  plt.grid()\n",
        "\n",
        "  buf = io.BytesIO()\n",
        "  plt.savefig(buf, format='png')\n",
        "  buf.seek(0)\n",
        "  image = PIL.Image.open(buf)\n",
        "  image = ToTensor()(image)#.unsqueeze(0)\n",
        "\n",
        "  plt.close(\"all\")\n",
        "\n",
        "  return image\n"
      ],
      "execution_count": null,
      "outputs": []
    },
    {
      "cell_type": "markdown",
      "metadata": {
        "id": "Ctms2u-1FebY"
      },
      "source": [
        "# Model"
      ]
    },
    {
      "cell_type": "code",
      "metadata": {
        "id": "Ieki8UrsFfRx"
      },
      "source": [
        "class MLP(pl.LightningModule):\n",
        "  \"\"\" Multi-layer perceptron module. \"\"\"\n",
        "  def __init__(self, \n",
        "               num_points = 512,\n",
        "               num_layers = 4,\n",
        "               hidden_features = 2048,\n",
        "               filter_order = 2,\n",
        "               lr = 3e-4,\n",
        "               **kwargs):\n",
        "    super(MLP, self).__init__()\n",
        "\n",
        "    self.save_hyperparameters()\n",
        "\n",
        "    self.layers = torch.nn.ModuleList()\n",
        "\n",
        "    for n in range(self.hparams.num_layers):\n",
        "      in_features = self.hparams.hidden_features if n != 0 else self.hparams.num_points\n",
        "      out_features = self.hparams.hidden_features\n",
        "      self.layers.append(torch.nn.Sequential(\n",
        "        torch.nn.Linear(in_features, out_features),\n",
        "        torch.nn.PReLU(),\n",
        "      ))\n",
        "\n",
        "    n_coef = (self.hparams.filter_order + 1) * 2\n",
        "    self.layers.append(torch.nn.Linear(out_features, n_coef))\n",
        "\n",
        "  def forward(self, x):\n",
        "    for layer in self.layers:\n",
        "      x = layer(x)\n",
        "\n",
        "    return x\n",
        "\n",
        "  def training_step(self, batch, batch_idx):\n",
        "    mag, coef = batch\n",
        "    pred_coef = self(mag)\n",
        "    loss = torch.nn.functional.mse_loss(pred_coef, coef)\n",
        "\n",
        "    self.log('train_loss', \n",
        "              loss, \n",
        "              on_step=True, \n",
        "              on_epoch=True, \n",
        "              prog_bar=True, \n",
        "              logger=True)\n",
        "    return loss\n",
        "\n",
        "  def validation_step(self, batch, batch_idx):\n",
        "    mag, coef = batch\n",
        "    pred_coef = self(mag)\n",
        "    loss = torch.nn.functional.mse_loss(pred_coef, coef)\n",
        "    \n",
        "    self.log('val_loss', loss)\n",
        "\n",
        "    # move tensors to cpu for logging\n",
        "    outputs = {\n",
        "        \"pred_coef\" : pred_coef.cpu().numpy(),\n",
        "        \"coef\": coef.cpu().numpy(),\n",
        "        \"mag\"  : mag.cpu().numpy()}\n",
        "\n",
        "    return outputs\n",
        "\n",
        "  def validation_epoch_end(self, validation_step_outputs):\n",
        "    # flatten the output validation step dicts to a single dict\n",
        "    outputs = res = {k: v for d in validation_step_outputs for k, v in d.items()} \n",
        "\n",
        "    pred_coef = outputs[\"pred_coef\"][0]\n",
        "    coef = outputs[\"coef\"][0]\n",
        "\n",
        "    self.logger.experiment.add_image(\"mag\", plot_compare_mag_response(pred_coef, coef), self.global_step)\n",
        "\n",
        "  def configure_optimizers(self):\n",
        "    return torch.optim.Adam(self.parameters(), lr=self.hparams.lr)\n",
        "\n",
        "  # add any model hyperparameters here\n",
        "  @staticmethod\n",
        "  def add_model_specific_args(parent_parser):\n",
        "    parser = ArgumentParser(parents=[parent_parser], add_help=False)\n",
        "    # --- model related ---\n",
        "    parser.add_argument('--num_points', type=int, default=512)\n",
        "    parser.add_argument('--filter_order', type=int, default=2)\n",
        "\n",
        "    # --- training related ---\n",
        "    parser.add_argument('--lr', type=float, default=1e-3)\n",
        "\n",
        "    return parser"
      ],
      "execution_count": null,
      "outputs": []
    },
    {
      "cell_type": "markdown",
      "metadata": {
        "id": "ZYW6xPvaFf0m"
      },
      "source": [
        "# Training"
      ]
    },
    {
      "cell_type": "code",
      "metadata": {
        "id": "KCc6_RAfFggi"
      },
      "source": [
        "batch_size = 64\n",
        "num_workers = 0\n",
        "shuffle = True\n",
        "\n",
        "num_examples = 10000\n",
        "num_points = 16\n",
        "\n",
        "# init the trainer and model \n",
        "trainer = pl.Trainer(gpus=1, progress_bar_refresh_rate=20, max_epochs=10, auto_lr_find=False)\n",
        "\n",
        "# setup the dataloaders\n",
        "train_dataset = IIRFilterDataset(num_points=num_points, num_examples=num_examples)\n",
        "train_dataloader = torch.utils.data.DataLoader(train_dataset, \n",
        "                                               shuffle=shuffle,\n",
        "                                               batch_size=batch_size,\n",
        "                                               num_workers=num_workers)\n",
        "\n",
        "# build the model\n",
        "model = MLP(num_points=num_points)\n",
        "\n",
        "# Run learning rate finder\n",
        "#lr_finder = trainer.tuner.lr_find(model, train_dataloader, min_lr=1e-08, max_lr=0.01)\n",
        "# Pick point based on plot, or get suggestion\n",
        "#new_lr = lr_finder.suggestion()\n",
        "# update hparams of the model\n",
        "#model.hparams.lr = new_lr\n",
        "#print(new_lr)\n",
        "\n",
        "# train!\n",
        "trainer.fit(model, train_dataloader, train_dataloader)"
      ],
      "execution_count": null,
      "outputs": []
    },
    {
      "cell_type": "code",
      "metadata": {
        "id": "FiRetUEiKlk1"
      },
      "source": [
        "# Start tensorboard.\n",
        "%reload_ext tensorboard\n",
        "%tensorboard --logdir lightning_logs/"
      ],
      "execution_count": null,
      "outputs": []
    },
    {
      "cell_type": "code",
      "metadata": {
        "id": "f2emvNHn53zM"
      },
      "source": [
        ""
      ],
      "execution_count": null,
      "outputs": []
    }
  ]
}